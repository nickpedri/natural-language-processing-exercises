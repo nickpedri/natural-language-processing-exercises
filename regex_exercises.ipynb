{
 "cells": [
  {
   "cell_type": "markdown",
   "id": "0f142f3f-da43-45a7-8e39-e36c40363a01",
   "metadata": {},
   "source": [
    "# Exercises\n",
    "\n",
    "Using the repo setup directions, setup a new local and remote repository named natural-language-processing-exercises. The local version of your repo should live inside of ~/codeup-data-science. This repo should be named natural-language-processing-exercises\n",
    "\n",
    "Save this work in your natural-language-processing-exercises repo. Then add, commit, and push your changes.\n",
    "\n",
    "Unless a specific file extension is specified, you may do your work either in a python script (.py) or a jupyter notebook (.ipynb).\n",
    "\n",
    "Do your work for this exercise in a file named regex_exercises."
   ]
  },
  {
   "cell_type": "code",
   "execution_count": 1,
   "id": "4b90d4b8-5e55-42b6-888c-3c717adcaa7b",
   "metadata": {},
   "outputs": [],
   "source": [
    "import re"
   ]
  },
  {
   "cell_type": "markdown",
   "id": "fcadeff7-8c1b-4e7e-ba9d-effe363e4190",
   "metadata": {},
   "source": [
    "## 1. Write a function named is_vowel. It should accept a string as input and use a regular expression to determine if the passed string is a vowel. While not explicity mentioned in the lesson, you can treat the result of re.search as a boolean value that indicates whether or not the regular expression matches the given string."
   ]
  },
  {
   "cell_type": "code",
   "execution_count": 154,
   "id": "5245f3fc-c7cf-4a43-9c4b-f3a06e6cc819",
   "metadata": {},
   "outputs": [],
   "source": [
    "def is_vowel(letter):\n",
    "    if re.search(r'^[AEIOUaeiou]$', letter):\n",
    "        return True\n",
    "    else:\n",
    "        return False    "
   ]
  },
  {
   "cell_type": "code",
   "execution_count": 155,
   "id": "8af8dbe2-079d-4178-afa5-a67da5fcfe2d",
   "metadata": {},
   "outputs": [
    {
     "data": {
      "text/plain": [
       "(False, True, False)"
      ]
     },
     "execution_count": 155,
     "metadata": {},
     "output_type": "execute_result"
    }
   ],
   "source": [
    "is_vowel('b'), is_vowel('a'), is_vowel('c')"
   ]
  },
  {
   "cell_type": "code",
   "execution_count": 156,
   "id": "79b5ed99-591a-4cf1-b037-06af3bd75e70",
   "metadata": {},
   "outputs": [
    {
     "data": {
      "text/plain": [
       "False"
      ]
     },
     "execution_count": 156,
     "metadata": {},
     "output_type": "execute_result"
    }
   ],
   "source": [
    "is_vowel('aeiou')"
   ]
  },
  {
   "cell_type": "markdown",
   "id": "2af5a226-de65-4145-ae91-06992d299e94",
   "metadata": {},
   "source": [
    "## 2. Write a function named is_valid_username that accepts a string as input. A valid username starts with a lowercase letter, and only consists of lowercase letters, numbers, or the _ character. It should also be no longer than 32 characters. The function should return either True or False depending on whether the passed string is a valid username."
   ]
  },
  {
   "cell_type": "code",
   "execution_count": 157,
   "id": "e6967d2f-bb5f-400b-93be-be6b73981a16",
   "metadata": {},
   "outputs": [],
   "source": [
    "def is_valid_username(username):\n",
    "    print(f'Username length: {len(username)}')\n",
    "    if re.search(r'^[a-z][\\w_]{,31}$', username):\n",
    "        return True\n",
    "    else:\n",
    "        return False \n"
   ]
  },
  {
   "cell_type": "code",
   "execution_count": 158,
   "id": "049db742-3ef4-42bc-938d-070444bf9975",
   "metadata": {},
   "outputs": [
    {
     "name": "stdout",
     "output_type": "stream",
     "text": [
      "Username length: 32\n"
     ]
    },
    {
     "data": {
      "text/plain": [
       "True"
      ]
     },
     "execution_count": 158,
     "metadata": {},
     "output_type": "execute_result"
    }
   ],
   "source": [
    "is_valid_username('ashgljqhagohasogjasljghlaahglkah')"
   ]
  },
  {
   "cell_type": "code",
   "execution_count": 85,
   "id": "87968037-6e5e-432f-a3fc-66469d99f19e",
   "metadata": {},
   "outputs": [
    {
     "name": "stdout",
     "output_type": "stream",
     "text": [
      "Username length: 54\n"
     ]
    },
    {
     "data": {
      "text/plain": [
       "False"
      ]
     },
     "execution_count": 85,
     "metadata": {},
     "output_type": "execute_result"
    }
   ],
   "source": [
    "is_valid_username('reallyreallyreallyreallyreallyreallywaytoolongusername')"
   ]
  },
  {
   "cell_type": "markdown",
   "id": "b93a5aba-0418-4f25-8cba-c8b7e53302e2",
   "metadata": {},
   "source": [
    "## 3. Write a regular expression to capture phone numbers. It should match all of the following:\n",
    "    (210) 867 5309\n",
    "    +1 210.867.5309\n",
    "    867-5309\n",
    "    210-867-5309"
   ]
  },
  {
   "cell_type": "code",
   "execution_count": 120,
   "id": "58e715a0-6564-4a29-93f4-1035958f5b06",
   "metadata": {},
   "outputs": [
    {
     "name": "stdout",
     "output_type": "stream",
     "text": [
      "Match!\n",
      "Match!\n",
      "Match!\n",
      "Match!\n"
     ]
    }
   ],
   "source": [
    "numbers = ['(210) 867 5309', '+1 210.867.5309', '867-5309', '210-867-5309']\n",
    "\n",
    "for n in numbers:\n",
    "    if re.match(r'^(\\+\\d\\s)?((\\(?\\d{3}\\)?)[\\.\\s-]){1,2}(\\d{4})$', n):\n",
    "        print('Match!')\n",
    "    else:\n",
    "        print('No match')"
   ]
  },
  {
   "cell_type": "markdown",
   "id": "ddc7e2af-228b-4a75-9338-8997e3fc3892",
   "metadata": {},
   "source": [
    "## 4. Use regular expressions to convert the dates below to the standardized year-month-day format."
   ]
  },
  {
   "cell_type": "code",
   "execution_count": 122,
   "id": "f572abba-de20-4834-97fa-4fa87f67d7c7",
   "metadata": {},
   "outputs": [
    {
     "name": "stdout",
     "output_type": "stream",
     "text": [
      "year/month/day\n",
      "2019/02/04\n",
      "2019/02/05\n",
      "2019/02/06\n",
      "2019/02/07\n",
      "2019/02/08\n",
      "2019/02/09\n",
      "2019/02/10\n"
     ]
    }
   ],
   "source": [
    "dates =  ['02/04/19', '02/05/19', '02/06/19', '02/07/19', '02/08/19', '02/09/19', '02/10/19']\n",
    "\n",
    "print('year/month/day')\n",
    "for date in dates:\n",
    "    mm, dd, yy = re.findall(r'\\d+', date)\n",
    "    print(f'20{yy}/{mm}/{dd}')"
   ]
  },
  {
   "cell_type": "markdown",
   "id": "c45fea29-0e65-41da-95c3-288fa0412130",
   "metadata": {},
   "source": [
    "## 5. Write a regex to extract the various parts of these logfile lines:"
   ]
  },
  {
   "cell_type": "code",
   "execution_count": 123,
   "id": "32429b49-6455-4f43-af7d-42a1a15a222b",
   "metadata": {},
   "outputs": [],
   "source": [
    "logs = ['GET /api/v1/sales?page=86 [16/Apr/2019:193452+0000] HTTP/1.1 {200} 510348 \"python-requests/2.21.0\" 97.105.19.58',\n",
    "'POST /users_accounts/file-upload [16/Apr/2019:193452+0000] HTTP/1.1 {201} 42 \"User-Agent: Mozilla/5.0 (X11; Fedora; Fedora; Linux x86_64) AppleWebKit/537.36 (KHTML, like Gecko) Chrome/73.0.3683.86 Safari/537.36\" 97.105.19.58',\n",
    "'GET /api/v1/items?page=3 [16/Apr/2019:193453+0000] HTTP/1.1 {429} 3561 \"python-requests/2.21.0\" 97.105.19.58']\n"
   ]
  },
  {
   "cell_type": "code",
   "execution_count": 134,
   "id": "17c0886c-591e-41ca-8930-5a420e54e701",
   "metadata": {},
   "outputs": [
    {
     "data": {
      "text/plain": [
       "['GET',\n",
       " '/api/v1/sales?page=86',\n",
       " '[16/Apr/2019:193452+0000]',\n",
       " 'HTTP/1.1',\n",
       " '{200}',\n",
       " '510348',\n",
       " '\"python-requests/2.21.0\"',\n",
       " '97.105.19.58']"
      ]
     },
     "execution_count": 134,
     "metadata": {},
     "output_type": "execute_result"
    }
   ],
   "source": [
    "re.findall(r'\\S+', logs[0])"
   ]
  },
  {
   "cell_type": "code",
   "execution_count": 150,
   "id": "c948cd83-e5c3-4067-965c-a99425ccc953",
   "metadata": {},
   "outputs": [
    {
     "data": {
      "text/plain": [
       "['\"User-Agent: Mozilla/5.0 (X11; Fedora; Fedora; Linux x86_64) AppleWebKit/537.36 (KHTML, like Gecko) Chrome/73.0.3683.86 Safari/537.36\"']"
      ]
     },
     "execution_count": 150,
     "metadata": {},
     "output_type": "execute_result"
    }
   ],
   "source": [
    "re.findall(r'\".+\"', logs[1])"
   ]
  },
  {
   "cell_type": "code",
   "execution_count": 151,
   "id": "6dc974ff-fac2-4d30-85b4-fe7060e818b2",
   "metadata": {},
   "outputs": [
    {
     "data": {
      "text/plain": [
       "['POST',\n",
       " '/users_accounts/file-upload',\n",
       " '[16/Apr/2019:193452+0000]',\n",
       " 'HTTP/1.1',\n",
       " '{201}',\n",
       " '42',\n",
       " '\"User-Agent:',\n",
       " 'Mozilla/5.0',\n",
       " '(X11;',\n",
       " 'Fedora;',\n",
       " 'Fedora;',\n",
       " 'Linux',\n",
       " 'x86_64)',\n",
       " 'AppleWebKit/537.36',\n",
       " '(KHTML,',\n",
       " 'like',\n",
       " 'Gecko)',\n",
       " 'Chrome/73.0.3683.86',\n",
       " 'Safari/537.36\"',\n",
       " '97.105.19.58']"
      ]
     },
     "execution_count": 151,
     "metadata": {},
     "output_type": "execute_result"
    }
   ],
   "source": [
    "re.findall(r'\\S+', logs[1])"
   ]
  },
  {
   "cell_type": "code",
   "execution_count": 135,
   "id": "51727546-8d8b-4ffc-a182-1aa0a22c2303",
   "metadata": {},
   "outputs": [
    {
     "data": {
      "text/plain": [
       "['GET',\n",
       " '/api/v1/items?page=3',\n",
       " '[16/Apr/2019:193453+0000]',\n",
       " 'HTTP/1.1',\n",
       " '{429}',\n",
       " '3561',\n",
       " '\"python-requests/2.21.0\"',\n",
       " '97.105.19.58']"
      ]
     },
     "execution_count": 135,
     "metadata": {},
     "output_type": "execute_result"
    }
   ],
   "source": [
    "re.findall(r'\\S+', logs[2])"
   ]
  },
  {
   "cell_type": "code",
   "execution_count": null,
   "id": "5ba8ea8f-54f4-485c-b7a4-7ffb60ef6838",
   "metadata": {},
   "outputs": [],
   "source": []
  }
 ],
 "metadata": {
  "kernelspec": {
   "display_name": "Python 3 (ipykernel)",
   "language": "python",
   "name": "python3"
  },
  "language_info": {
   "codemirror_mode": {
    "name": "ipython",
    "version": 3
   },
   "file_extension": ".py",
   "mimetype": "text/x-python",
   "name": "python",
   "nbconvert_exporter": "python",
   "pygments_lexer": "ipython3",
   "version": "3.10.9"
  }
 },
 "nbformat": 4,
 "nbformat_minor": 5
}
