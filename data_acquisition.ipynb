{
 "cells": [
  {
   "cell_type": "markdown",
   "id": "182e44ae-bede-425b-9c9f-3964685d6aa7",
   "metadata": {},
   "source": [
    "## Data Acquisition Exercises\n",
    "\n",
    "\n",
    "By the end of this exercise, you should have a file named acquire.py that contains the specified functions. If you wish, you may break your work into separate files for each website (e.g. acquire_codeup_blog.py and acquire_news_articles.py), but the end function should be present in acquire.py (that is, acquire.py should import get_blog_articles from the acquire_codeup_blog module.)"
   ]
  },
  {
   "cell_type": "code",
   "execution_count": 3,
   "id": "a12739d7-1c03-45f3-819d-4962ef28193e",
   "metadata": {},
   "outputs": [],
   "source": [
    "import pandas as pd\n",
    "import requests\n",
    "import re\n",
    "\n",
    "from bs4 import BeautifulSoup"
   ]
  },
  {
   "cell_type": "markdown",
   "id": "cea804ce-48fa-43ba-bb15-1b12d008c850",
   "metadata": {
    "tags": []
   },
   "source": [
    "## 1. Codeup Blog Articles\n",
    "\n",
    "Visit Codeup's Blog (https://codeup.edu/blog/) and record the urls for at least 5 distinct blog posts. For each post, you should scrape at least the post's title and content.\n",
    "\n",
    "Encapsulate your work in a function named get_blog_articles that will return a list of dictionaries, with each dictionary representing one article. The shape of each dictionary should look like this:"
   ]
  },
  {
   "cell_type": "code",
   "execution_count": null,
   "id": "63c3dd51-d86d-4d88-9dfd-6a0c040cd510",
   "metadata": {},
   "outputs": [],
   "source": [
    "#{\n",
    "#    'title': 'the title of the article',\n",
    "#    'content': 'the full text content of the article'\n",
    "#}"
   ]
  },
  {
   "cell_type": "markdown",
   "id": "5c3ee19e-75ca-4b85-83d0-1b464589555e",
   "metadata": {},
   "source": [
    "Plus any additional properties you think might be helpful."
   ]
  },
  {
   "cell_type": "code",
   "execution_count": 24,
   "id": "74b1f1b0-3bae-49c9-bb39-826305ced566",
   "metadata": {},
   "outputs": [],
   "source": [
    "def get_page_content(url):\n",
    "    response = requests.get(url, headers={'User-Agent': 'Codeup Data Science'})\n",
    "    soup = BeautifulSoup(response.content, 'html.parser')\n",
    "    return soup"
   ]
  },
  {
   "cell_type": "code",
   "execution_count": 25,
   "id": "8e9a8c28-cdd2-4d91-8f72-84c5881d3b89",
   "metadata": {
    "tags": []
   },
   "outputs": [],
   "source": [
    "pg1 = get_page_content('https://codeup.edu/blog/')"
   ]
  },
  {
   "cell_type": "code",
   "execution_count": 13,
   "id": "d5192ea0-5c2c-4f35-a631-4c46108fce8b",
   "metadata": {},
   "outputs": [],
   "source": [
    "def extract_links(page):\n",
    "    links = page.find_all(\"h2\")\n",
    "    new_links = []\n",
    "    for article in links:\n",
    "        if article.find(\"a\"):\n",
    "            new_links.append(article.find(\"a\").get(\"href\"))\n",
    "    return new_links"
   ]
  },
  {
   "cell_type": "code",
   "execution_count": 17,
   "id": "8dadd737-8659-4757-8ccc-cacc0ae4cc75",
   "metadata": {},
   "outputs": [],
   "source": [
    "links_pg1 = extract_links(pg1)"
   ]
  },
  {
   "cell_type": "code",
   "execution_count": 30,
   "id": "d077c0ba-0a2c-4359-b85a-f5891b3d4f3e",
   "metadata": {},
   "outputs": [
    {
     "data": {
      "text/plain": [
       "['https://codeup.edu/featured/apida-heritage-month/',\n",
       " 'https://codeup.edu/featured/women-in-tech-panelist-spotlight/',\n",
       " 'https://codeup.edu/featured/women-in-tech-rachel-robbins-mayhill/',\n",
       " 'https://codeup.edu/codeup-news/women-in-tech-panelist-spotlight-sarah-mellor/',\n",
       " 'https://codeup.edu/events/women-in-tech-madeleine/',\n",
       " 'https://codeup.edu/codeup-news/panelist-spotlight-4/']"
      ]
     },
     "execution_count": 30,
     "metadata": {},
     "output_type": "execute_result"
    }
   ],
   "source": [
    "links_pg1"
   ]
  },
  {
   "cell_type": "code",
   "execution_count": 47,
   "id": "fffd4e2a-d24e-43fc-87f9-b3239076ec8c",
   "metadata": {},
   "outputs": [],
   "source": [
    "def get_content(link):\n",
    "    page_soup = get_page_content(link)\n",
    "    header = page_soup.find(\"h1\").get_text()\n",
    "    content = page_soup.select(\".entry-content\")[0].find_all(\"p\")\n",
    "    clean = []\n",
    "    for p in content:\n",
    "        clean.append(p.get_text())\n",
    "    clean = ' '.join(clean)\n",
    "    page_content = {'title': header,\n",
    "                    'content': clean}\n",
    "    return page_content"
   ]
  },
  {
   "cell_type": "code",
   "execution_count": 37,
   "id": "be0ba659-f2bd-4944-89bb-e3a33dab4239",
   "metadata": {},
   "outputs": [
    {
     "data": {
      "text/plain": [
       "{'title': 'Spotlight on APIDA Voices: Celebrating Heritage and Inspiring Change ft. Arbeena Thapa',\n",
       " 'content': 'May is traditionally known as Asian American and Pacific Islander (AAPI) Heritage Month. This month we celebrate the history and contributions made possible by our AAPI friends, family, and community. We also examine our level of support and seek opportunities to better understand the AAPI community.  In an effort to address real concerns and experiences, we sat down with Arbeena Thapa, one of Codeup’s Financial Aid and Enrollment Managers. Arbeena identifies as Nepali American and Desi. Arbeena’s parents immigrated to Texas in 1988 for better employment and educational opportunities. Arbeena’s older sister was five when they made the move to the US. Arbeena was born later, becoming the first in her family to be a US citizen. At Codeup we take our efforts at inclusivity very seriously. After speaking with Arbeena, we were taught that the term AAPI excludes Desi-American individuals. Hence, we will now use the term Asian Pacific Islander Desi American (APIDA). Here is how the rest of our conversation with Arbeena went! How do you celebrate or connect with your heritage and cultural traditions? “I celebrate Nepal’s version of Christmas or Dashain. This is a nine-day celebration also known as Dussehra. I grew up as Hindu and I identify as Hindu, this is a very large part of my heritage. “ “Other ways I connect with my culture include sharing food! Momos are South Asian Dumplings and they’re my favorite to make and share.” “On my Asian American side, I am an advocate of immigrant justice and erasure within APIDA social or political movements. I participate in events to embrace my identity such as immigrant justice advocacy because I come from a mixed-status family. I’ve always been in a community with undocumented Asian immigrants. .” What are some of the challenges you have faced as an APIDA individual, personally or professionally? “I often struggle with being gendered as compliant or a pushover. Professionally, I am often stereotyped as meek, so I’ve been overlooked for leadership roles. We are seen as perpetually foreign; people tend to other us in that way, yet put us on a pedestal for what a model minority looks like. This has made me hesitant to share my heritage in the past because these assumptions get mapped onto me. ” Can you describe some common barriers of entry that APIDA individuals, specifically women may face when trying to enter or advance in the workplace? “Being overlooked for leadership. In the past, I have not been viewed as a leader. People sometimes have preconceived stereotypes of Asian women not being able to be bold, or being vocal can be mistaken for being too emotional. “ How do you believe microaggressions impact APIDA individuals in the workplace? Can you provide examples of such microaggressions? “Erasure is big. To me, only saying ‘Merry Christmas’ isn’t inclusive to other religions. People are often resistant to saying ‘Happy Holidays,’ but saying Merry Christmas excludes, and does not appreciate my heritage. “ “Often microaggressions are not micro at all. They typically are not aggressive racialized violence, but the term ‘micro’ minimizes impact.” “Some that I’ve heard are ‘What kind of Asian are you?’ or ‘Where are you from?’ This automatically makes me the ‘other’ and not seen as American. Even within the APIDA community, South Asians are overlooked as “Asian”.” How important is representation, specifically APIDA representation, in organizational leadership positions? “I want to say that it is important to have someone who looks like you in leadership roles, and it is, but those leaders may not share the same beliefs as you. Certain privileges such as wealth, resources, or lack of interaction with lower-socioeconomic-status Asian Americans may cause a difference in community politics. I do not think the bamboo ceiling is acceptable, but the company you work for plays a big part in your politics and belief alignment.” How do you feel about code-switching, and have you ever felt it necessary to code-switch? “I like sharing South Asian terms or connecting with others that have similar heritage and culture. A workplace that is welcoming to going into this sort of breakout is refreshing and makes space for us. However, having to code-switch could also mean a workplace that is not conducive and welcoming of other cultures. “ Finally, in your opinion, what long-term strategies can create lasting change in the workplace and ensure support, equality, and inclusion for APIDA individuals? “Prior to a career in financial aid, I did a lot of research related to the post-9/11 immigration of the South Asian diaspora. This background made me heavily rely on grassroots organizing. Hire the people that want to innovate, hire the changemakers, hire the button-pushers. Reduce reliance on whiteness as change. This will become natural for the organization and become organizational change. Change comes from us on the ground.” A huge thank you to Arbeena Thapa for sharing her experiences, and being vulnerable with us. Your words were inspiring and the opportunity to understand your perspective more has been valuable. We hope we can become better support for the APIDA community as we learn and grow on our journey of cultivating inclusive growth.'}"
      ]
     },
     "execution_count": 37,
     "metadata": {},
     "output_type": "execute_result"
    }
   ],
   "source": [
    "get_content(links_pg1[0])"
   ]
  },
  {
   "cell_type": "code",
   "execution_count": 60,
   "id": "ab92948c-bbf4-47bd-ab67-8d76b29efe6a",
   "metadata": {},
   "outputs": [],
   "source": [
    "def scrape(url):\n",
    "    all_content = []\n",
    "    page = get_page_content(url)\n",
    "    links = extract_links(page)\n",
    "    for link in links:\n",
    "        all_content.append(get_content(link))\n",
    "    return all_content"
   ]
  },
  {
   "cell_type": "code",
   "execution_count": 63,
   "id": "63035e68-95ed-4dec-a8a3-2e89b6fc3fbf",
   "metadata": {},
   "outputs": [],
   "source": [
    "page_one = scrape('https://codeup.edu/blog/')"
   ]
  },
  {
   "cell_type": "code",
   "execution_count": 64,
   "id": "6a0ca290-d145-4f1b-8800-c8af5f36f292",
   "metadata": {},
   "outputs": [
    {
     "data": {
      "text/plain": [
       "6"
      ]
     },
     "execution_count": 64,
     "metadata": {},
     "output_type": "execute_result"
    }
   ],
   "source": [
    "len(page_one)"
   ]
  },
  {
   "cell_type": "code",
   "execution_count": 82,
   "id": "d48e7c5f-9fe1-44d6-87af-5558b4f1fc4e",
   "metadata": {},
   "outputs": [],
   "source": [
    "def scrape_links(url):\n",
    "    all_pages = []\n",
    "    all_pages.append(url)\n",
    "    while True:\n",
    "        page = get_page_content(all_pages[-1])\n",
    "        previous_page = page.select(\".alignleft\")[0].find(\"a\")\n",
    "        if previous_page == None:\n",
    "            break\n",
    "        previous_page_link = previous_page.get(\"href\")\n",
    "        all_pages.append(previous_page_link)\n",
    "    return all_pages"
   ]
  },
  {
   "cell_type": "code",
   "execution_count": 83,
   "id": "3076d559-0432-4f06-88f5-e32bb74244e4",
   "metadata": {},
   "outputs": [
    {
     "name": "stdout",
     "output_type": "stream",
     "text": [
      "Page 1 done!\n",
      "Page 2 done!\n",
      "Page 3 done!\n",
      "Page 4 done!\n",
      "Page 5 done!\n",
      "Page 6 done!\n",
      "Page 7 done!\n",
      "Page 8 done!\n",
      "Page 9 done!\n",
      "Page 10 done!\n",
      "Page 11 done!\n",
      "Page 12 done!\n",
      "Page 13 done!\n",
      "Page 14 done!\n",
      "Page 15 done!\n",
      "Page 16 done!\n",
      "Page 17 done!\n",
      "Page 18 done!\n",
      "Page 19 done!\n",
      "Page 20 done!\n",
      "Page 21 done!\n",
      "Page 22 done!\n",
      "Page 23 done!\n",
      "Page 24 done!\n",
      "Page 25 done!\n",
      "Page 26 done!\n",
      "Page 27 done!\n",
      "Page 28 done!\n",
      "Page 29 done!\n",
      "Page 30 done!\n",
      "Page 31 done!\n",
      "Page 32 done!\n",
      "Page 33 done!\n",
      "Page 34 done!\n",
      "Page 35 done!\n",
      "Page 36 done!\n",
      "Page 37 done!\n",
      "Page 38 done!\n",
      "Page 39 done!\n",
      "Page 40 done!\n",
      "Page 41 done!\n",
      "Page 42 done!\n",
      "Page 43 done!\n",
      "Page 44 done!\n",
      "Page 45 done!\n"
     ]
    }
   ],
   "source": [
    "links = scrape_links('https://codeup.edu/blog/')\n",
    "everything = []\n",
    "i=1\n",
    "for link in links:\n",
    "    everything.append(scrape(link))\n",
    "    print(f'Page {i} done!')\n",
    "    i += 1"
   ]
  },
  {
   "cell_type": "code",
   "execution_count": 85,
   "id": "769895f2-88fc-4a99-982c-3c35b06ff02b",
   "metadata": {},
   "outputs": [
    {
     "data": {
      "text/plain": [
       "45"
      ]
     },
     "execution_count": 85,
     "metadata": {},
     "output_type": "execute_result"
    }
   ],
   "source": [
    "len(everything)"
   ]
  },
  {
   "cell_type": "code",
   "execution_count": 228,
   "id": "6ff25ed4-8eb5-4b3c-832e-d10430a0ce8e",
   "metadata": {},
   "outputs": [],
   "source": [
    "titles = []\n",
    "contents = []"
   ]
  },
  {
   "cell_type": "code",
   "execution_count": 229,
   "id": "66183785-c9fc-4b04-bb40-2f309d597332",
   "metadata": {},
   "outputs": [],
   "source": [
    "for little_list in everything:\n",
    "    for dictionary in little_list:\n",
    "        titles.append(dictionary['title'])\n",
    "        contents.append(dictionary['content'])"
   ]
  },
  {
   "cell_type": "code",
   "execution_count": null,
   "id": "2814dd28-d2fe-4619-9c9c-f008b7d94ee7",
   "metadata": {},
   "outputs": [],
   "source": []
  },
  {
   "cell_type": "code",
   "execution_count": 232,
   "id": "b476fe2f-ba04-4ad9-879c-373a5d395679",
   "metadata": {},
   "outputs": [
    {
     "data": {
      "text/plain": [
       "(270, 270)"
      ]
     },
     "execution_count": 232,
     "metadata": {},
     "output_type": "execute_result"
    }
   ],
   "source": [
    "len(titles), len(contents)"
   ]
  },
  {
   "cell_type": "code",
   "execution_count": 238,
   "id": "0a63826e-f0ba-4900-9eb5-1db92b6599ca",
   "metadata": {},
   "outputs": [],
   "source": [
    "codeup_blogs = {'title':titles,\n",
    "                'content':contents}"
   ]
  },
  {
   "cell_type": "code",
   "execution_count": 241,
   "id": "06dd4763-164b-43f9-9747-489708d7f3ae",
   "metadata": {},
   "outputs": [],
   "source": [
    "codeup_blogs = pd.DataFrame(codeup_blogs)"
   ]
  },
  {
   "cell_type": "code",
   "execution_count": 243,
   "id": "214153ee-04b2-405d-b227-d1b081814f6b",
   "metadata": {},
   "outputs": [],
   "source": [
    "codeup_blogs.to_csv('codeup_blogs.csv',index=False)"
   ]
  },
  {
   "cell_type": "markdown",
   "id": "208680ea-fc72-4573-a4d3-3347d24e974b",
   "metadata": {
    "tags": []
   },
   "source": [
    "## 2. News Articles\n",
    "\n",
    "We will now be scraping text data from inshorts (https://inshorts.com/en/read), a website that provides a brief overview of many different topics.\n",
    "\n",
    "Write a function that scrapes the news articles for the following topics:\n",
    "\n",
    "* Business\n",
    "* Sports\n",
    "* Technology\n",
    "* Entertainment\n",
    "\n",
    "The end product of this should be a function named get_news_articles that returns a list of dictionaries, where each dictionary has this shape:"
   ]
  },
  {
   "cell_type": "code",
   "execution_count": null,
   "id": "cf11f15e-409a-4eb9-b4f6-2904f40f9b3b",
   "metadata": {},
   "outputs": [],
   "source": [
    "#{\n",
    "#    'title': 'The article title',\n",
    "#    'content': 'The article content',\n",
    "#    'category': 'business' # for example\n",
    "#}"
   ]
  },
  {
   "cell_type": "markdown",
   "id": "d929c284-f16f-4aad-a626-565c672bc658",
   "metadata": {},
   "source": [
    "Hints:\n",
    "\n",
    "1. Start by inspecting the website in your browser. Figure out which elements will be useful.\n",
    "0. Start by creating a function that handles a single article and produces a dictionary like the one above.\n",
    "0. Next create a function that will find all the articles on a single page and call the function you created in the last step for every article on the page.\n",
    "0. Now create a function that will use the previous two functions to scrape the articles from all the pages that you need, and do any additional processing that needs to be done."
   ]
  },
  {
   "cell_type": "code",
   "execution_count": 204,
   "id": "8725cdc7-dfa9-4904-9b2d-78096235c8ef",
   "metadata": {},
   "outputs": [],
   "source": [
    "category = ['business', 'politics', 'sports', 'technology']"
   ]
  },
  {
   "cell_type": "code",
   "execution_count": 195,
   "id": "27512260-ed91-442c-8b95-4d623f5d2419",
   "metadata": {},
   "outputs": [],
   "source": [
    "def get_inshorts(url):\n",
    "    response = requests.get(url)\n",
    "    soup = BeautifulSoup(response.content, 'html.parser')\n",
    "    return soup"
   ]
  },
  {
   "cell_type": "code",
   "execution_count": 196,
   "id": "f881538a-f593-4c32-9387-d40142c3b010",
   "metadata": {
    "tags": []
   },
   "outputs": [],
   "source": [
    "def get_data_inshorts(cat):\n",
    "    page = get_inshorts(f'https://inshorts.com/en/read/{cat}')\n",
    "    headlines = page.find_all(itemprop='headline')\n",
    "    body = page.find_all(itemprop='articleBody')\n",
    "\n",
    "    clean_headlines = []\n",
    "    clean_body = []\n",
    "\n",
    "    for h,b in zip(headlines,body):\n",
    "        clean_headlines.append(h.get_text())\n",
    "        clean_body.append(b.get_text())\n",
    "        \n",
    "    all_data = []\n",
    "    for head,body in zip(clean_headlines, clean_body):\n",
    "        data = {'title': head,\n",
    "                'content': body,\n",
    "                'category': cat}\n",
    "        all_data.append(data)\n",
    "        \n",
    "    return all_data"
   ]
  },
  {
   "cell_type": "code",
   "execution_count": 197,
   "id": "ce37ce82-dd8b-41b2-ad46-fb115f140abe",
   "metadata": {},
   "outputs": [],
   "source": [
    "all_news = []\n",
    "\n",
    "for cat in category:\n",
    "    all_news.append(get_data_inshorts(cat))"
   ]
  },
  {
   "cell_type": "code",
   "execution_count": 245,
   "id": "c6a393ed-9fe5-4773-9a16-b0ad6c4a7ef7",
   "metadata": {},
   "outputs": [],
   "source": [
    "titles = []\n",
    "contents = []\n",
    "cats = []"
   ]
  },
  {
   "cell_type": "code",
   "execution_count": 246,
   "id": "4b88abff-5812-41cd-bf9e-75ec7bcec3bf",
   "metadata": {},
   "outputs": [],
   "source": [
    "for list_list in all_news:\n",
    "    for dictionary in list_list:\n",
    "        titles.append(dictionary['title'])\n",
    "        contents.append(dictionary['content'])\n",
    "        cats.append(dictionary['category'])"
   ]
  },
  {
   "cell_type": "code",
   "execution_count": 249,
   "id": "2356482a-82bf-483d-bbd6-f64219c326dd",
   "metadata": {},
   "outputs": [],
   "source": [
    "news = {'title':titles,\n",
    "         'content':contents,\n",
    "         'category':cats}"
   ]
  },
  {
   "cell_type": "code",
   "execution_count": 252,
   "id": "787f2109-7bcf-4e62-9c84-2928eb3fa693",
   "metadata": {},
   "outputs": [],
   "source": [
    "news = pd.DataFrame(news)"
   ]
  },
  {
   "cell_type": "code",
   "execution_count": 253,
   "id": "fe129e64-9ab4-43dc-896a-ebb72a125244",
   "metadata": {},
   "outputs": [],
   "source": [
    "news.to_csv('news.csv',index=False)"
   ]
  },
  {
   "cell_type": "code",
   "execution_count": 244,
   "id": "ab0ee3fb-5e3f-456a-b370-b50de948cce5",
   "metadata": {},
   "outputs": [
    {
     "data": {
      "text/plain": [
       "[[{'title': 'Govt probing accounts of Adani Group-run Mumbai and Navi Mumbai airports',\n",
       "   'content': 'The Ministry of Corporate Affairs has opened an investigation into accounts of Adani Group-run Mumbai and Navi Mumbai airports. A significant part of the information being sought by the government pertains to the period from fiscal 2018 to 2022 prior to their acquisition, Adani Enterprises said. The company stated its units will respond to the communications with applicable legal provisions.',\n",
       "   'category': 'business'},\n",
       "  {'title': 'IndiGo Co-founder Gangwal to buy SpiceJet stake, say reports; stock up 20%',\n",
       "   'content': 'IndiGo Co-founder Rakesh Gangwal is at advanced stage of talks to buy a sizeable stake in SpiceJet, ET NOW reported. Following reports of the deal, shares of cash-strapped SpiceJet closed nearly 20% higher on Friday after hitting 52-week high of ₹43.82/share. Gangwal holds a 13.23% stake in IndiGo-parent InterGlobe Aviation while his wife holds a 2.99% stake.',\n",
       "   'category': 'business'},\n",
       "  {'title': \"Who is KP Ramasamy, a farmer's son who entered Forbes rich list with ₹19,146 crore?\",\n",
       "   'content': \"KP Ramasamy has made his debut on Forbes India's 100 Richest list with $2.3 billion (₹19,146 crore) wealth. He's the Founder and Chairman of textiles and sugar maker KPR Mill. A farmer's son and a college dropout, the 74-year-old founded KPR Mill in 1984. The company produces 128 million garments annually which are exported to H&M, Marks & Spencer, Walmart.\",\n",
       "   'category': 'business'},\n",
       "  {'title': \"Zomato, McDonald's fined ₹1 lakh for delivering non-vegetarian food in vegetarian order\",\n",
       "   'content': \"Food delivery platform Zomato and fast food chain McDonald's have been jointly fined ₹1 lakh by Jodhpur's District Consumer Disputes Redressal Forum for delivering non-vegetarian food in place of a vegetarian food order. The consumer has been awarded ₹5,000 as litigation cost. Both monetary penalty and cost of litigation are to be borne jointly and severally by Zomato and McDonald's.\\n\",\n",
       "   'category': 'business'},\n",
       "  {'title': 'India scraps plan to impose restrictions on laptop imports',\n",
       "   'content': 'The Indian government has reversed its decision and will not be imposing restrictions on laptop imports, Trade Secretary Sunil Barthwal said. He said that the government only wants importers to be on close watch. India is holding consultations with the industry and a new order on laptop imports will be announced by October end, Director General of Foreign Trade said.',\n",
       "   'category': 'business'},\n",
       "  {'title': 'Trader wins ₹8,225 compensation from Zerodha over tech glitch',\n",
       "   'content': 'Trader Vijay Gupta won ₹8,225 compensation from Zerodha over a technical glitch. Speaking to Moneycontrol, Gupta said, \"I thought that if I cannot recover this small amount, what if I lose ₹80,000 or ₹80 lakh tomorrow.\" \"It was like someone came and snatched this money from me,\" he said, adding, \"I didn\\'t spend any money [and] researched everything on Google.\"',\n",
       "   'category': 'business'},\n",
       "  {'title': \"I'm surprised by how much difference being Indian makes: Banga\",\n",
       "   'content': 'World Bank President Ajay Banga said he\\'s surprised by how much difference being Indian makes. He said he was educated in India and worked here for first 15-16 years of his life, following which he held roles overseeing operations in multiple emerging markets. \"I\\'ve learned...that both countries [and their residents]...have a respect for my knowledge on the ground,\" Banga added.',\n",
       "   'category': 'business'},\n",
       "  {'title': \"Debt isn't bad, it should be there for development: Ajay Banga\",\n",
       "   'content': 'World Bank President Ajay Banga said debt isn\\'t bad but turns out to be so when it\\'s out of proportion to \"what you think you can manage\". \"It\\'s when [debt] is handled in a form that\\'s not quite holistic that it gets you into real trouble,\" Banga said. Debt shouldn\\'t squeeze out development but be there for it, he added.',\n",
       "   'category': 'business'},\n",
       "  {'title': 'Stopped buying from ultra-luxury brands like Hermès, LV: Billionaire Nikhil Kamath',\n",
       "   'content': 'Zerodha Co-founder Nikhil Kamath said he no longer buys from ultra-luxury brands like Hermès and Louis Vuitton. \"I feel [luxury brands] play you. Their entire marketing strategy is to offend and get some kind of a reaction out of you and then buy from them,\" he explained. Kamath recently featured as youngest billionaire on Forbes list of India\\'s 100 richest.',\n",
       "   'category': 'business'},\n",
       "  {'title': \"Very concerned, don't know all facts: MoS IT on Lava MD's arrest\",\n",
       "   'content': 'Minister of State for IT Rajeev Chandrasekhar said he\\'s \"very concerned\" about ED\\'s action against Lava and Vivo and Lava MD Hari Om Rai\\'s arrest. \"While I don\\'t know all the facts, I hope this is rapidly looked into and right thing is done by Lava and Rai,\" Chandrasekhar said. ED arrested Rai on Tuesday in a money laundering case.',\n",
       "   'category': 'business'}],\n",
       " [{'title': 'Andhra govt trying to give steroids to Naidu in jail: Son Lokesh',\n",
       "   'content': 'The Andhra Pradesh government is trying to administer steroids to former Andhra CM Chandrababu Naidu in jail, TDP leader and Naidu\\'s son Nara Lokesh has alleged. \"CBN (Naidu) is facing a dire situation, dealing with mosquitoes, contaminated water, weight loss, infections, and allergies, all without access to timely medical assistance,\" he said, adding Naidu faces an \"immediate threat to life\". ',\n",
       "   'category': 'politics'},\n",
       "  {'title': 'Go to Asian Games & win medals: UP Dy CM on Akhilesh jumping gate',\n",
       "   'content': 'UP Deputy CM Brajesh Pathak has reacted to a video showing SP chief Akhilesh Yadav climbing over the gate of JP Narayan International Centre (JPNIC). \"If he is so good at jumping, he should go to the Asian Games and win some medals for the country,\" Pathak said. Yadav responded to Pathak\\'s comment and called him a \"servant Deputy CM\".',\n",
       "   'category': 'politics'},\n",
       "  {'title': \"Narendra Modi Adani's PM, not India's: Sanjay Singh in viral video\",\n",
       "   'content': 'AAP shared a video of MP Sanjay Singh while he was being produced before a Delhi court in excise policy case. In the video, Singh can be heard saying, \"PM Modi is not India\\'s but Gautam Adani\\'s Prime Minister. When will there be a probe into Gautam Adani\\'s scam?\" The court today sent Singh to judicial custody till October 27.',\n",
       "   'category': 'politics'},\n",
       "  {'title': \"UP Deputy CM renames himself as 'Servant Brajesh Pathak' on 'X'\",\n",
       "   'content': 'Uttar Pradesh Deputy Chief Minister Brajesh Pathak has renamed himself as \\'Servant Brajesh Pathak\\' on \\'X\\' (formerly Twitter). This comes two days after Samajwadi Party chief Akhilesh Yadav referred to him as a \"servant deputy chief minister\". \"Of course, Akhilesh is \\'Raja\\' (king) and I am \\'servant\\' of people,\" Pathak had said.',\n",
       "   'category': 'politics'},\n",
       "  {'title': 'India facing cross-border terrorism for decades: PM at P20 Summit',\n",
       "   'content': 'While addressing the 9th P20 Summit, PM Narendra Modi raised the issue of terrorism, saying that India has been facing cross-border terrorism for decades. He further said that all the Parliaments will have to think of ways to fight terrorism together. He added, \"Around 20 years ago, terrorists targeted our Parliament at the time when the session was on.\"',\n",
       "   'category': 'politics'},\n",
       "  {'title': \"Congress shares 'inseparable' meme, captions it 'PM-Adani are one'\",\n",
       "   'content': 'Congress shared an \"inseparable\" meme on PM Narendra Modi and Gautam Adani on X. The meme has a picture showing two faces, one of the PM and the other of the businessman. Congress shared it with the caption \"PM Modi and Adani are one\". Earlier, Congress shared PM\\'s picture standing with his arms apart, attached to strings to Adani\\'s name.',\n",
       "   'category': 'politics'},\n",
       "  {'title': \"World running due to Sanatana, it's synonymous with India: Bhagwat\",\n",
       "   'content': 'Amid controversy over DMK leader Udhayanidhi Stalin\\'s remark against Sanatana Dharma, RSS chief Mohan Bhagwat said that Sanatana is synonymous with India and that the world is running because of it. He further said that calling for the destruction of Sanatana Dharma is like harming yourself. He added, \"Sanatana Dharma is \\'Hindu Rashtra\\'…Our culture is based on [it].\"',\n",
       "   'category': 'politics'},\n",
       "  {'title': \"P20 Summit is 'Mahakumbh' of parliamentary practices: PM Modi\",\n",
       "   'content': 'PM Narendra Modi, after inaugurating the 9th G20 Parliamentary Speakers\\' Summit (P20), said that this summit is the \\'Mahakumbh\\' of parliamentary practices in the world. He further added, \"India landed on the moon. India hosted the G20 Summit successfully. Today, we are hosting the P20 Summit…Parliaments across the world are an important place for debate and deliberations.\"',\n",
       "   'category': 'politics'},\n",
       "  {'title': \"PM's PR hides poor behind curtains: Saket on Global Hunger Index\",\n",
       "   'content': 'TMC MP Saket Gokhale criticised PM Narendra Modi after the Centre called the Global Hunger Index 2023 report \"erroneous\". Gokhale said that the Modi-led government is in denial mode as always. He added, \"Modi’s PR that hides the poor behind green curtains and denies even the existence of hungry Indians shows how the man cares about nothing beyond himself.\"',\n",
       "   'category': 'politics'},\n",
       "  {'title': 'AAP MP moves Delhi HC challenging arrest in excise policy case',\n",
       "   'content': 'AAP MP Sanjay Singh has approached Delhi High Court, challenging his arrest by the Enforcement Directorate. He has also challenged the remand granted to him by the trial court and the matter is set to be heard today. He was arrested by the probe agency last week in connection with a money laundering probe in the Delhi excise policy case.',\n",
       "   'category': 'politics'}],\n",
       " [{'title': 'Who won Player of the Match awards in previous India-Pakistan ODI World Cup matches?',\n",
       "   'content': 'Sachin Tendulkar was named Player of the Match for scoring 54*(62) in India-Pakistan ODI World Cup 1992 match. In 1996, Navjot Sidhu bagged it for scoring 93(115) and in 1999, Venkatesh Prasad won it for taking five wickets. Sachin bagged the award in 2003 and 2011 too. Virat Kohli and Rohit Sharma won it in 2015 and 2019 editions, respectively.',\n",
       "   'category': 'sports'},\n",
       "  {'title': \"What was India's margin of victory against Pakistan in their 7 ODI World Cup matches?\",\n",
       "   'content': \"India have won all seven matches against Pakistan in ODI World Cups. India defeated Pakistan by 43 runs in 1992. In 1996 edition, India won by 39 runs and in 1999, India won by 47 runs. India beat Pakistan by six wickets in 2003. India's margin of victory in 2011, 2015 and 2019 was 29, 76 and 89 runs, respectively.\",\n",
       "   'category': 'sports'},\n",
       "  {'title': 'If Babar Azam starts playing, nobody can stop him: Gundappa ',\n",
       "   'content': 'Ahead of India-Pakistan match, ex-India cricketer Gundappa Viswanath called Babar Azam a \"very classy player\" and said he can make runs comfortably. \"These kinds of batsmen...can come any time...And I hope it doesn\\'t come tomorrow...But, if he starts playing, nobody can stop him,\" he added. Gundappa further said Rohit Sharma can \"tear the bowlers apart\" once he gets going. ',\n",
       "   'category': 'sports'},\n",
       "  {'title': 'I think Virat will win battle against Shaheen Afridi: Harbhajan ',\n",
       "   'content': 'Former India cricketer Harbhajan Singh said that he is expecting Virat Kohli to win his potential battle with Shaheen Afridi in the World Cup 2023 clash between India and Pakistan on Saturday. \"He (Shaheen) needs the conditions. If...conditions are good, he becomes an excellent bowler but if...conditions are not in his favour, he is just a decent bowler,\" added Harbhajan.  ',\n",
       "   'category': 'sports'},\n",
       "  {'title': 'What is the weather forecast for Ahmedabad where India will face Pakistan on Saturday?',\n",
       "   'content': 'India-Pakistan ODI World Cup 2023 match will begin at 2 pm in Ahmedabad on Saturday. As per AccuWeather, the chance of rain in the city on Saturday is 1% and the cloud cover is expected to be 14% during the day. Weather will be \"mostly sunny and remain very warm\", AccuWeather stated. The maximum temperature is expected to be 36°C.',\n",
       "   'category': 'sports'},\n",
       "  {'title': 'Shubman Gill is 99% available for match against Pakistan: Rohit Sharma',\n",
       "   'content': 'Team India captain Rohit Sharma has said that Shubman Gill is 99% available for ODI World Cup 2023 match against Pakistan that will take place in Ahmedabad on Saturday. Gill had missed the first two matches in ODI World Cup 2023 due to dengue. Gill is the leading run-getter worldwide in ODIs this year with 1,230 runs at 72.35.',\n",
       "   'category': 'sports'},\n",
       "  {'title': 'Cook retires after scoring 34,045 runs and smashing 88 hundreds in professional cricket',\n",
       "   'content': 'Former England captain Alastair Cook has announced his retirement from all forms of cricket at the age of 38. The Essex opener, who had retired from international cricket in 2018, played his last professional match last month. Cook scored 34,045 runs in professional cricket, slamming 88 hundreds and 168 fifties.',\n",
       "   'category': 'sports'},\n",
       "  {'title': 'Who has smashed the highest score in India-Pakistan ODI World Cup matches?',\n",
       "   'content': \"Rohit Sharma holds the record for smashing the highest score in India-Pakistan ODI World Cup matches. He slammed 140 against Pakistan in their 2019 World Cup match in Manchester. He's followed by Virat Kohli, who slammed 107 against Pakistan in their 2015 World Cup match. Saeed Anwar is third on the list with 101 against India in 2003 World Cup.\",\n",
       "   'category': 'sports'},\n",
       "  {'title': \"All streaks are meant to be broken: Babar on Pakistan's 0-7 ODI WC record against India\",\n",
       "   'content': 'Talking about Pakistan\\'s 0-7 record against India in ODI World Cup history, Pakistan captain Babar Azam said, \"All these streaks are meant to be broken.\" He added, \"God willing...We\\'ll try to give our best tomorrow. Anything can happen on the day. I fully believe my team has done well in...first two matches, and will continue doing so in...coming matches.\"',\n",
       "   'category': 'sports'}],\n",
       " [{'title': \"X user says Khamenei got grey tick, Musk says 'applying UN rule'\",\n",
       "   'content': 'An X user shared a screenshot of Iran\\'s Supreme Leader Ayatollah Khamenei\\'s profile showing a grey checkmark, which is given to accounts representing a government/multilateral organisation/official. \"What\\'s this Elon Musk? That wasn\\'t there yesterday,\" the user said. Billionaire X owner Elon Musk responded by saying, \"We\\'re applying the UN rule...if the UN recognises someone, then we will.\"',\n",
       "   'category': 'technology'},\n",
       "  {'title': 'India scraps plan to impose restrictions on laptop imports',\n",
       "   'content': 'The Indian government has reversed its decision and will not be imposing restrictions on laptop imports, Trade Secretary Sunil Barthwal said. He said that the government only wants importers to be on close watch. India is holding consultations with the industry and a new order on laptop imports will be announced by October end, Director General of Foreign Trade said.',\n",
       "   'category': 'technology'},\n",
       "  {'title': \"Pics show 1st mobile tower at Siachen Glacier, world's highest battlefield\",\n",
       "   'content': 'The first-ever mobile tower has been installed at Siachen Glacier, known as the world\\'s highest battlefield. The tower was installed by the Indian Army in collaboration with Bharat Sanchar Nigam Limited (BSNL). Sharing the pictures, Union Minister of State for Communications Devusinh Chauhan said, \"Now our heroes can talk to their near and dear ones at their convenience.\"',\n",
       "   'category': 'technology'},\n",
       "  {'title': \"Very concerned, don't know all facts: MoS IT on Lava MD's arrest\",\n",
       "   'content': 'Minister of State for IT Rajeev Chandrasekhar said he\\'s \"very concerned\" about ED\\'s action against Lava and Vivo and Lava MD Hari Om Rai\\'s arrest. \"While I don\\'t know all the facts, I hope this is rapidly looked into and right thing is done by Lava and Rai,\" Chandrasekhar said. ED arrested Rai on Tuesday in a money laundering case.',\n",
       "   'category': 'technology'},\n",
       "  {'title': \"Microsoft's $69 billion Activision deal, biggest-ever in gaming, cleared by UK\",\n",
       "   'content': \"UK's Competition and Markets Authority has approved Microsoft's $69 billion acquisition of Activision Blizzard. Microsoft's offer to sell some gaming rights to French publisher Ubisoft satisfied any competition concerns it had, CMA said. The approval allows the companies to complete the biggest ever deal in gaming, following which Microsoft will become the world's third-largest gaming company. \",\n",
       "   'category': 'technology'},\n",
       "  {'title': 'Grandfather fought in WWII for 6 yrs, dropped out of school: Musk',\n",
       "   'content': 'Billionaire Elon Musk said his grandfather fought in World War II for six years and suffered from \"severe PTSD\". He said his grandfather dropped out of high school but scored high in an IQ test taken towards the war\\'s end. Due to this, he was sent to work for British Intelligence, else \"he\\'d probably be dead and I wouldn\\'t exist\".',\n",
       "   'category': 'technology'},\n",
       "  {'title': 'No place for terrorist groups: X to EU on disinformation ultimatum',\n",
       "   'content': 'X CEO Linda Yaccarino replied to EU industry chief Thierry Breton\\'s 24-hour ultimatum, urging X to remove disinformation regarding the Israel war. \"There\\'s no place on X for terrorist organisations or violent extremist groups...we continue to remove such accounts in real-time,\" Yaccarino said. X has removed or labelled tens of thousands of content pieces since the war began, she added.',\n",
       "   'category': 'technology'},\n",
       "  {'title': \"Microsoft shuts Windows 7, 8 users' free upgrade to Windows 10, 11\",\n",
       "   'content': \"Microsoft has now blocked Windows 7 and Windows 8 users from activating a copy of Windows 10 and Windows 11 for free. The activation status of users who have already upgraded their Windows operating system using any method won't change. Microsoft said the option for Windows 10 users to upgrade to Windows 11 is still available free of charge.\",\n",
       "   'category': 'technology'},\n",
       "  {'title': 'FTX Founder tried to get funds from Saudi Crown Prince: Ex-partner',\n",
       "   'content': 'FTX Founder Sam Bankman-Fried said he might try to raise funds from Saudi Crown Prince Mohammed bin Salman, his former girlfriend and Alameda Research\\'s ex-CEO Caroline Ellison said. Bankman-Fried was looking to sell FTX equity to create liquidity at FTX. Ellison said Bankman-Fried also tried boosting FTX\\'s market share by getting regulators to \"crack down\" on rival Binance.',\n",
       "   'category': 'technology'},\n",
       "  {'title': 'HCLTech to hire 10,000 freshers in FY24',\n",
       "   'content': 'HCLTech said it will target hiring 10,000 freshers this year, compared to around 27,000 freshers hired in 2022-23. In the second quarter ended September 30, the company\\'s attrition stood at 14.2%. \"We consciously didn\\'t backfill attrition as a lot of freshers we hired in the last 18 months are now ready to be deployed,\" CEO and MD C Vijayakumar said.',\n",
       "   'category': 'technology'}]]"
      ]
     },
     "execution_count": 244,
     "metadata": {},
     "output_type": "execute_result"
    }
   ],
   "source": [
    "all_news"
   ]
  },
  {
   "cell_type": "code",
   "execution_count": null,
   "id": "f3d2287b-ed1e-4b7e-b622-e2f8f77ef034",
   "metadata": {},
   "outputs": [],
   "source": []
  }
 ],
 "metadata": {
  "kernelspec": {
   "display_name": "Python 3 (ipykernel)",
   "language": "python",
   "name": "python3"
  },
  "language_info": {
   "codemirror_mode": {
    "name": "ipython",
    "version": 3
   },
   "file_extension": ".py",
   "mimetype": "text/x-python",
   "name": "python",
   "nbconvert_exporter": "python",
   "pygments_lexer": "ipython3",
   "version": "3.10.9"
  }
 },
 "nbformat": 4,
 "nbformat_minor": 5
}
