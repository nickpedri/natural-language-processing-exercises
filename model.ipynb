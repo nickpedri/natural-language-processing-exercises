{
 "cells": [
  {
   "cell_type": "markdown",
   "id": "057c538e-27b8-4e9d-b4aa-bad317fbe7bd",
   "metadata": {},
   "source": [
    "\n",
    "# Exercises\n",
    "Do your work for this exercise in a file named model.\n",
    "\n",
    "Take the work we did in the lessons further:"
   ]
  },
  {
   "cell_type": "markdown",
   "id": "ada3d4be-f2ad-4458-89fa-5e52f6488631",
   "metadata": {},
   "source": [
    "* What other types of models (i.e. different classifcation algorithms) could you use?\n",
    "* How do the models compare when trained on term frequency data alone, instead of TF-IDF values?"
   ]
  },
  {
   "cell_type": "code",
   "execution_count": 3,
   "id": "0fd4aafc-46a6-43f4-ac8b-046951c1dcc6",
   "metadata": {},
   "outputs": [
    {
     "name": "stderr",
     "output_type": "stream",
     "text": [
      "[nltk_data] Downloading package wordnet to\n",
      "[nltk_data]     /Users/nickolaspedrimiranda/nltk_data...\n",
      "[nltk_data]   Package wordnet is already up-to-date!\n",
      "[nltk_data] Downloading package omw-1.4 to\n",
      "[nltk_data]     /Users/nickolaspedrimiranda/nltk_data...\n",
      "[nltk_data]   Package omw-1.4 is already up-to-date!\n"
     ]
    }
   ],
   "source": [
    "import pandas as pd\n",
    "import numpy as np\n",
    "\n",
    "from sklearn.feature_extraction.text import TfidfVectorizer\n",
    "from sklearn.model_selection import train_test_split\n",
    "from sklearn.linear_model import LogisticRegression\n",
    "from sklearn.metrics import classification_report\n",
    "\n",
    "from env import get_connection\n",
    "import prepare_nlp as prp"
   ]
  },
  {
   "cell_type": "code",
   "execution_count": null,
   "id": "9e8656ef-cfcf-4c52-80ac-88cc1bbb074e",
   "metadata": {},
   "outputs": [],
   "source": []
  }
 ],
 "metadata": {
  "kernelspec": {
   "display_name": "Python 3 (ipykernel)",
   "language": "python",
   "name": "python3"
  },
  "language_info": {
   "codemirror_mode": {
    "name": "ipython",
    "version": 3
   },
   "file_extension": ".py",
   "mimetype": "text/x-python",
   "name": "python",
   "nbconvert_exporter": "python",
   "pygments_lexer": "ipython3",
   "version": "3.10.9"
  }
 },
 "nbformat": 4,
 "nbformat_minor": 5
}
